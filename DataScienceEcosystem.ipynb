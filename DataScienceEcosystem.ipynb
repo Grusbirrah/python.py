{
 "cells": [
  {
   "cell_type": "markdown",
   "id": "e09318fd-3ed1-4e54-9bcd-46e1e064d178",
   "metadata": {},
   "source": [
    "# Data Science Tools and Ecosystem"
   ]
  },
  {
   "cell_type": "markdown",
   "id": "067f3ac7-ecb9-410e-82bb-5e02a90311c8",
   "metadata": {},
   "source": [
    "In this notebook, Data Science Tools and Ecosystem are summarized"
   ]
  },
  {
   "cell_type": "markdown",
   "id": "840db3cb-a149-4e6a-bd74-53328f8d78b3",
   "metadata": {},
   "source": [
    "Some of the popular languages that Data Scientists use are:\n",
    "1. Python\n",
    "2. SQL\n",
    "3. R"
   ]
  },
  {
   "cell_type": "markdown",
   "id": "79c941d3-f9bc-4596-962b-f6d052a06e34",
   "metadata": {},
   "source": [
    "Some of the commonly used libraries used by Data Scientists include:\n",
    "1. Pandas\n",
    "2. Numpy\n",
    "3. Matplotlib\n",
    "4. Seaborn"
   ]
  },
  {
   "cell_type": "markdown",
   "id": "ef6d42ce-2efd-4ce7-a01a-7cbe6750bd8c",
   "metadata": {},
   "source": [
    "Data Science Tools         |\n",
    "---------------------------|\n",
    "Jupyter Notebook/JupyterLab|\n",
    "---------------------------|\n",
    "RStudio                    |\n",
    "---------------------------|\n",
    "Visual Studio Code         |\n",
    "---------------------------|\n"
   ]
  },
  {
   "cell_type": "markdown",
   "id": "3c10d909-ae59-4e68-99a5-ea2c409960d1",
   "metadata": {},
   "source": [
    "### Below are few examples of evaluating arithmetic expressions in Python"
   ]
  },
  {
   "cell_type": "code",
   "execution_count": 3,
   "id": "e36d7578-3d92-4ba1-8621-ddd67f1b658d",
   "metadata": {
    "scrolled": true
   },
   "outputs": [
    {
     "data": {
      "text/plain": [
       "17"
      ]
     },
     "execution_count": 3,
     "metadata": {},
     "output_type": "execute_result"
    }
   ],
   "source": [
    "#This is a simple arithmetic expression to multiply then add integers\n",
    "(3*4)+5"
   ]
  },
  {
   "cell_type": "code",
   "execution_count": 4,
   "id": "982c6dd0-ac9e-476f-aa9a-da17897b5534",
   "metadata": {},
   "outputs": [
    {
     "data": {
      "text/plain": [
       "3.3333333333333335"
      ]
     },
     "execution_count": 4,
     "metadata": {},
     "output_type": "execute_result"
    }
   ],
   "source": [
    "#This will convert 200 minutes to hours by dividing by 60\n",
    "200/60"
   ]
  },
  {
   "cell_type": "markdown",
   "id": "5c6b98ea-45ce-4c72-9b69-02d87d347e18",
   "metadata": {},
   "source": [
    "Some key takeaways from the course\n",
    "\n",
    "**Objectives**\n",
    "* List popular languages in data science\n",
    "* List the common libraries used by data scientists\n",
    "* Evaluating arithmetic expressions\n",
    "  "
   ]
  },
  {
   "cell_type": "markdown",
   "id": "c9a3bff6-5e32-4b6b-8d4e-4414128d87ea",
   "metadata": {},
   "source": [
    "## Author's name\n",
    "Benjamin Semakuba"
   ]
  },
  {
   "cell_type": "code",
   "execution_count": null,
   "id": "5219be40-239c-4d63-b348-2ad5fb0cdd99",
   "metadata": {},
   "outputs": [],
   "source": []
  }
 ],
 "metadata": {
  "kernelspec": {
   "display_name": "Python 3 (ipykernel)",
   "language": "python",
   "name": "python3"
  },
  "language_info": {
   "codemirror_mode": {
    "name": "ipython",
    "version": 3
   },
   "file_extension": ".py",
   "mimetype": "text/x-python",
   "name": "python",
   "nbconvert_exporter": "python",
   "pygments_lexer": "ipython3",
   "version": "3.11.9"
  }
 },
 "nbformat": 4,
 "nbformat_minor": 5
}
